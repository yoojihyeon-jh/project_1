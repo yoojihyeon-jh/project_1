{
 "cells": [
  {
   "cell_type": "code",
   "execution_count": null,
   "metadata": {},
   "outputs": [],
   "source": [
    "import pandas as pd \n",
    "from bs4 import BeautifulSoup\n",
    "from urllib.parse import quote\n",
    "import time\n",
    "from selenium import webdriver\n",
    "from selenium.webdriver.common.by import By\n",
    "from selenium.webdriver.common.keys import Keys"
   ]
  },
  {
   "cell_type": "markdown",
   "metadata": {},
   "source": [
    "# 전체 페이지에서 관광지명, 해시태그, 주소, 연락처, 상세정보 가져오기"
   ]
  },
  {
   "cell_type": "code",
   "execution_count": null,
   "metadata": {},
   "outputs": [],
   "source": [
    "url = 'https://www.visitjeju.net/kr/detail/list?menuId=DOM_000001718000000000&cate1cd=cate0000000002#p1&pageSize=12&sortListType=reviewcnt&viewType=map&isShowBtag&tag'\n",
    "driver = webdriver.Chrome()\n",
    "driver.get(url)\n",
    "time.sleep(2)\n",
    "soup = BeautifulSoup(driver.page_source,'html.parser')"
   ]
  },
  {
   "cell_type": "code",
   "execution_count": null,
   "metadata": {},
   "outputs": [],
   "source": [
    "#  해당 페이지를 리스트 형태로 보기 \n",
    "driver.find_element(By.CLASS_NAME,'ico_sort.type_list').click()"
   ]
  },
  {
   "cell_type": "code",
   "execution_count": null,
   "metadata": {},
   "outputs": [],
   "source": [
    "# 관광지명 가져오기\n",
    "list_a = soup.select('p.s_tit')\n",
    "list_a[0].text"
   ]
  },
  {
   "cell_type": "code",
   "execution_count": null,
   "metadata": {},
   "outputs": [],
   "source": [
    "# 관광지명 클릭하기\n",
    "driver.find_elements(By.CLASS_NAME,'s_tit')[0].click()"
   ]
  },
  {
   "cell_type": "code",
   "execution_count": null,
   "metadata": {},
   "outputs": [],
   "source": [
    "#  상세페이지 url  가져오기\n",
    "url_indi = driver.current_url"
   ]
  },
  {
   "cell_type": "code",
   "execution_count": null,
   "metadata": {},
   "outputs": [],
   "source": [
    "# 해시태그 가져오기\n",
    "tag_area=[]\n",
    "for i in driver.find_elements(By.CLASS_NAME,'tag_area > p> a'):\n",
    "    tag_area.append(i.text)\n",
    "    print(i.text)"
   ]
  },
  {
   "cell_type": "code",
   "execution_count": null,
   "metadata": {},
   "outputs": [],
   "source": [
    "# 주소 및 연락처,상세정보 가져오기\n",
    "driver.find_element(By.CLASS_NAME, 'info_sub_cont')\n",
    "juso =driver.find_elements(By.CLASS_NAME, 'info_sub_cont')[0].text\n",
    "tel = driver.find_elements(By.CLASS_NAME, 'info_sub_cont')[1].text\n",
    "info = driver.find_element(By.CLASS_NAME,'real').text"
   ]
  },
  {
   "cell_type": "code",
   "execution_count": null,
   "metadata": {},
   "outputs": [],
   "source": [
    "# 원래 페이지로 돌아오기(두번 클릭)\n",
    "driver.back()\n",
    "driver.back()"
   ]
  },
  {
   "cell_type": "code",
   "execution_count": null,
   "metadata": {},
   "outputs": [],
   "source": [
    "# 총 124페이지의 전체 페이지에서 관광지명가져오고 각 해당 관광지 상세페이지에서 해시태그, 주소, 연락처, 상세정보, url 가져오기\n",
    "result = []\n",
    "for page in range(1,125):\n",
    "    url =f'https://www.visitjeju.net/kr/detail/list?menuId=DOM_000001718000000000&cate1cd=cate0000000002#p{page}&pageSize=12&sortListType=reviewcnt&viewType=map&isShowBtag&tag'\n",
    "    time.sleep(2)\n",
    "    driver = webdriver.Chrome()\n",
    "    driver.get(url)\n",
    "    time.sleep(5)\n",
    "    soup = BeautifulSoup(driver.page_source,'html.parser')\n",
    "\n",
    "    #  해당 페이지를 리스트 형태로 보기 \n",
    "    driver.find_element(By.CLASS_NAME,'ico_sort.type_list').click()\n",
    "    time.sleep(3)\n",
    "\n",
    "    # 해당페이지에서 관광지명 가져오기\n",
    "    list_a = soup.select('p.s_tit')\n",
    "\n",
    "    # 관광지별 상세정보 새창에서 가져오기(해시태그, 주소, 연락처, 상세정보) \n",
    "    for i in range(len(list_a)):\n",
    "        text = list_a[i].text\n",
    "\n",
    "        # 상세페이지 클릭\n",
    "        driver.find_elements(By.CLASS_NAME,'s_tit')[i].click()\n",
    "        time.sleep(2)\n",
    "\n",
    "        # 상세페이지 url 가져오기\n",
    "        url_indi = driver.current_url\n",
    "        time.sleep(2)\n",
    "\n",
    "        # 해시태그\n",
    "        tag_area=[]\n",
    "        for i in driver.find_elements(By.CLASS_NAME,'tag_area > p> a'):\n",
    "            tag_area.append(i.text)\n",
    "\n",
    "        # 주소, 연락처, 상세정보\n",
    "        juso =driver.find_elements(By.CLASS_NAME, 'info_sub_cont')[0].text\n",
    "        tel = driver.find_elements(By.CLASS_NAME, 'info_sub_cont')[1].text\n",
    "        info = driver.find_element(By.CLASS_NAME,'real').text\n",
    "        result.append([text, juso,tel,info, tag_area,url_indi])\n",
    "\n",
    "        # 원래 페이지로 돌아오기\n",
    "        driver.back() \n",
    "        driver.back()"
   ]
  },
  {
   "cell_type": "code",
   "execution_count": null,
   "metadata": {},
   "outputs": [],
   "source": [
    "# 데이터 저장하기\n",
    "df = pd.DataFrame(result)\n",
    "df.to_csv('./관광지상세정보.csv', index=False)\n",
    "df= pd.read_csv('./관광지상세정보.csv')"
   ]
  },
  {
   "cell_type": "markdown",
   "metadata": {},
   "source": [
    "주소 컬럼의 빈값 채우기, 해시태그 컬럼의 공백 및 특수기호 등 제거 등 전처리   "
   ]
  },
  {
   "cell_type": "code",
   "execution_count": null,
   "metadata": {},
   "outputs": [],
   "source": [
    "import json, folium\n",
    "import requests"
   ]
  },
  {
   "cell_type": "code",
   "execution_count": null,
   "metadata": {},
   "outputs": [],
   "source": [
    "#  데이터 컬럼명 변경하기\n",
    "df.rename(columns ={'0':'관광지명','1':'주소','2':'연락처','3':'상세정보','4':'해시태그','5':'상세페이지_url'}, inplace=True)"
   ]
  },
  {
   "cell_type": "code",
   "execution_count": null,
   "metadata": {},
   "outputs": [],
   "source": [
    "# 주소 컬럼이 null값인 행 확인하기\n",
    "df[df['주소'].isnull()]"
   ]
  },
  {
   "cell_type": "code",
   "execution_count": null,
   "metadata": {},
   "outputs": [],
   "source": [
    "# 주소가 빈값인 관광지명 리스트로 만들기\n",
    "search_list = df[df['주소'].isnull()]['관광지명'].values.tolist()"
   ]
  },
  {
   "cell_type": "code",
   "execution_count": null,
   "metadata": {},
   "outputs": [],
   "source": [
    "with open('도로명주소APIkey.txt') as file:\n",
    "    road_key = file.read()"
   ]
  },
  {
   "cell_type": "code",
   "execution_count": null,
   "metadata": {},
   "outputs": [],
   "source": [
    "base_url = 'https://www.juso.go.kr/addrlink/addrLinkApi.do'\n",
    "params1 = f'confmKey={road_key}&currentPage=1&countPerPage=10'\n",
    "params2 = f'keyword={quote (\"렛츠런팜\")}&resultType=json'\n",
    "url = f'{base_url}?{params1}&{params2}'"
   ]
  },
  {
   "cell_type": "code",
   "execution_count": null,
   "metadata": {},
   "outputs": [],
   "source": [
    "result = requests.get(url)\n",
    "result.status_code"
   ]
  },
  {
   "cell_type": "code",
   "execution_count": null,
   "metadata": {},
   "outputs": [],
   "source": [
    "json.loads(result.text)['results']['juso'][0]['roadAddr']"
   ]
  },
  {
   "cell_type": "code",
   "execution_count": null,
   "metadata": {},
   "outputs": [],
   "source": [
    "#  null값인 주소 변경하기\n",
    "df.loc[849,'주소'] = '제주특별자치도 제주시 조천읍 남조로 1649-48'\n",
    "df.loc[883,'주소'] = '제주특별자치도 제주시 구좌읍 구좌해안로 237' \n",
    "df.loc[955,'주소'] = '제주 제주시 우도면 연평리 3'\n",
    "df.loc[967,'주소'] = '제주특별자치도 서귀포시 안덕면 사계리 112-3'\n",
    "df.loc[982,'주소'] = '제주 제주시 애월읍 평화로 1529'\n",
    "df.loc[999,'주소'] = '제주 서귀포시 안덕면 상천리 산24'\n",
    "df.loc[1014,'주소'] = '제주특별자치도 제주시 일도일동 1498'\n",
    "df.loc[1073,'주소'] = '제주특별자치도 서귀포시 남원읍 신흥리 2083'\n",
    "df.loc[1176,'주소'] = '제주특별자치도 서귀포시 안덕면 감산리 1803'\n",
    "df.loc[1342,'주소'] = '제주특별자치도 제주시 추자면 영흥리'\n",
    "df.loc[1362,'주소'] = '제주특별자치도 서귀포시 서귀동'"
   ]
  },
  {
   "cell_type": "code",
   "execution_count": null,
   "metadata": {},
   "outputs": [],
   "source": [
    "#  해시태그_sub 열 생성 - 해시태그 열의 데이터값 공백 및 특수기호 등 제외\n",
    "df['해시태그_sub'] = df['해시태그'].str.replace(pat=r'[^\\w]',repl=r' ',regex=True)"
   ]
  },
  {
   "cell_type": "markdown",
   "metadata": {},
   "source": [
    "주소의 위도 경도 가져오기"
   ]
  },
  {
   "cell_type": "code",
   "execution_count": null,
   "metadata": {},
   "outputs": [],
   "source": [
    "with open('카카오APIkey.txt') as file:\n",
    "    road_key = file.read()"
   ]
  },
  {
   "cell_type": "code",
   "execution_count": null,
   "metadata": {},
   "outputs": [],
   "source": [
    "lat_list, lng_list = [],[]\n",
    "for i in df.index:\n",
    "    url = f'{base_url}?query={quote(df[\"주소\"][i])}'\n",
    "    result = requests.get(url, headers=header).json()\n",
    "    try:\n",
    "        lat_list.append(result['documents'][0]['y'])\n",
    "        lng_list.append(result['documents'][0]['x'])\n",
    "    except:\n",
    "        print(df.관광지명[i])"
   ]
  },
  {
   "cell_type": "code",
   "execution_count": null,
   "metadata": {},
   "outputs": [],
   "source": [
    "df['위도'] = lat_list\n",
    "df['경도'] = lng_list"
   ]
  },
  {
   "cell_type": "code",
   "execution_count": null,
   "metadata": {},
   "outputs": [],
   "source": [
    "#  데이터 저장하기\n",
    "df.to_csv('./관광지정보최종.csv', index = False)\n",
    "pd.read_csv('./관광지정보최종.csv')\n",
    "df=pd.read_csv('./관광지정보최종.csv')"
   ]
  },
  {
   "cell_type": "markdown",
   "metadata": {},
   "source": [
    "지도 그리기"
   ]
  },
  {
   "cell_type": "code",
   "execution_count": null,
   "metadata": {},
   "outputs": [],
   "source": [
    "import folium\n",
    "import seaborn as sns\n",
    "import matplotlib.pyplot as plt\n",
    "plt.rcParams['font.family']='Malgun Gothic'\n",
    "plt.rcParams['axes.unicode_minus']= False"
   ]
  },
  {
   "cell_type": "code",
   "execution_count": null,
   "metadata": {},
   "outputs": [],
   "source": [
    "# 지도 표시하기\n",
    "map = folium.Map(location = [df.위도.mean(), df.경도.mean()], zoomstart = 14)\n",
    "for i in df.index:\n",
    "    folium.Marker(\n",
    "        location = [df['위도'][i], df['경도'][i]], \n",
    "        tooltip = df.관광지명[i],\n",
    "        icon=folium.Icon( color='pink', icon= 'star'),\n",
    "        popup = folium.Popup(df.주소[i],df.해시태그[i], max_width=200) \n",
    "    ).add_to(map)"
   ]
  },
  {
   "cell_type": "code",
   "execution_count": null,
   "metadata": {},
   "outputs": [],
   "source": []
  },
  {
   "cell_type": "code",
   "execution_count": null,
   "metadata": {},
   "outputs": [],
   "source": [
    "# 지도 표시하기__제주시와 그 외(서귀포시)로 나뉘어서 표시하기\n",
    "map = folium.Map(location = [df.위도.mean(), df.경도.mean()], zoomstart = 14)\n",
    "for i in df.index:\n",
    "    if '제주시' in df['주소'][i]:\n",
    "        folium.Marker(\n",
    "            location = [df['위도'][i], df['경도'][i]], \n",
    "            tooltip = dft.관광지명[i],\n",
    "            icon=folium.Icon( color='beige', icon= 'cloud'),\n",
    "            popup = folium.Popup(df.주소[i], df.해시태그[i], max_width=200) ).add_to(map)\n",
    "    else:\n",
    "        folium.Marker(\n",
    "            location = [df['위도'][i], df['경도'][i]], \n",
    "            tooltip = df.관광지명[i],\n",
    "            icon=folium.Icon( color='lightgreen', icon= 'glyphicon-star'),\n",
    "            popup = folium.Popup(df.주소[i], df.해시태그[i], max_width=200) ).add_to(map)"
   ]
  },
  {
   "cell_type": "code",
   "execution_count": null,
   "metadata": {},
   "outputs": [],
   "source": []
  }
 ],
 "metadata": {
  "language_info": {
   "name": "python"
  }
 },
 "nbformat": 4,
 "nbformat_minor": 2
}
