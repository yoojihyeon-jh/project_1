{
 "cells": [
  {
   "cell_type": "code",
   "execution_count": null,
   "metadata": {},
   "outputs": [],
   "source": [
    "import pandas as pd \n",
    "from bs4 import BeautifulSoup\n",
    "from urllib.parse import quote\n",
    "import time\n",
    "from selenium import webdriver\n",
    "from selenium.webdriver.common.by import By\n",
    "from selenium.webdriver.common.keys import Keys"
   ]
  },
  {
   "cell_type": "markdown",
   "metadata": {},
   "source": [
    "# 전체 페이지에서 관광지명, 해시태그, 주소, 연락처, 상세정보 가져오기"
   ]
  },
  {
   "cell_type": "code",
   "execution_count": null,
   "metadata": {},
   "outputs": [],
   "source": [
    "url = 'https://www.visitjeju.net/kr/detail/list?menuId=DOM_000001718000000000&cate1cd=cate0000000002#p1&pageSize=12&sortListType=reviewcnt&viewType=map&isShowBtag&tag'\n",
    "driver = webdriver.Chrome()\n",
    "driver.get(url)\n",
    "time.sleep(2)\n",
    "soup = BeautifulSoup(driver.page_source,'html.parser')"
   ]
  },
  {
   "cell_type": "code",
   "execution_count": null,
   "metadata": {},
   "outputs": [],
   "source": [
    "#  해당 페이지를 리스트 형태로 보기 \n",
    "driver.find_element(By.CLASS_NAME,'ico_sort.type_list').click()"
   ]
  },
  {
   "cell_type": "code",
   "execution_count": null,
   "metadata": {},
   "outputs": [],
   "source": [
    "# 관광지명 가져오기\n",
    "list_a = soup.select('p.s_tit')\n",
    "list_a[0].text"
   ]
  },
  {
   "cell_type": "code",
   "execution_count": null,
   "metadata": {},
   "outputs": [],
   "source": [
    "# 관광지명 클릭하기\n",
    "driver.find_elements(By.CLASS_NAME,'s_tit')[0].click()"
   ]
  },
  {
   "cell_type": "code",
   "execution_count": null,
   "metadata": {},
   "outputs": [],
   "source": [
    "#  상세페이지 url  가져오기\n",
    "url_indi = driver.current_url"
   ]
  },
  {
   "cell_type": "code",
   "execution_count": null,
   "metadata": {},
   "outputs": [],
   "source": [
    "# 해시태그 가져오기\n",
    "tag_area=[]\n",
    "for i in driver.find_elements(By.CLASS_NAME,'tag_area > p> a'):\n",
    "    tag_area.append(i.text)\n",
    "    print(i.text)"
   ]
  },
  {
   "cell_type": "code",
   "execution_count": null,
   "metadata": {},
   "outputs": [],
   "source": [
    "# 주소 및 연락처,상세정보 가져오기\n",
    "driver.find_element(By.CLASS_NAME, 'info_sub_cont')\n",
    "juso =driver.find_elements(By.CLASS_NAME, 'info_sub_cont')[0].text\n",
    "tel = driver.find_elements(By.CLASS_NAME, 'info_sub_cont')[1].text\n",
    "info = driver.find_element(By.CLASS_NAME,'real').text"
   ]
  },
  {
   "cell_type": "code",
   "execution_count": null,
   "metadata": {},
   "outputs": [],
   "source": [
    "# 원래 페이지로 돌아오기(두번 클릭)\n",
    "driver.back()\n",
    "driver.back()"
   ]
  },
  {
   "cell_type": "code",
   "execution_count": null,
   "metadata": {},
   "outputs": [],
   "source": [
    "# 총 124페이지의 전체 페이지에서 관광지명가져오고 각 해당 관광지 상세페이지에서 해시태그, 주소, 연락처, 상세정보, url 가져오기\n",
    "result = []\n",
    "for page in range(1,125):\n",
    "    url =f'https://www.visitjeju.net/kr/detail/list?menuId=DOM_000001718000000000&cate1cd=cate0000000002#p{page}&pageSize=12&sortListType=reviewcnt&viewType=map&isShowBtag&tag'\n",
    "    time.sleep(2)\n",
    "    driver = webdriver.Chrome()\n",
    "    driver.get(url)\n",
    "    time.sleep(5)\n",
    "    soup = BeautifulSoup(driver.page_source,'html.parser')\n",
    "\n",
    "    #  해당 페이지를 리스트 형태로 보기 \n",
    "    driver.find_element(By.CLASS_NAME,'ico_sort.type_list').click()\n",
    "    time.sleep(3)\n",
    "\n",
    "    # 해당페이지에서 관광지명 가져오기\n",
    "    list_a = soup.select('p.s_tit')\n",
    "\n",
    "    # 관광지별 상세정보 새창에서 가져오기(해시태그, 주소, 연락처, 상세정보) \n",
    "    for i in range(len(list_a)):\n",
    "        text = list_a[i].text\n",
    "\n",
    "        # 상세페이지 클릭\n",
    "        driver.find_elements(By.CLASS_NAME,'s_tit')[i].click()\n",
    "        time.sleep(2)\n",
    "\n",
    "        # 상세페이지 url 가져오기\n",
    "        url_indi = driver.current_url\n",
    "        time.sleep(2)\n",
    "\n",
    "        # 해시태그\n",
    "        tag_area=[]\n",
    "        for i in driver.find_elements(By.CLASS_NAME,'tag_area > p> a'):\n",
    "            tag_area.append(i.text)\n",
    "\n",
    "        # 주소, 연락처, 상세정보\n",
    "        juso =driver.find_elements(By.CLASS_NAME, 'info_sub_cont')[0].text\n",
    "        tel = driver.find_elements(By.CLASS_NAME, 'info_sub_cont')[1].text\n",
    "        info = driver.find_element(By.CLASS_NAME,'real').text\n",
    "        result.append([text, juso,tel,info, tag_area,url_indi])\n",
    "\n",
    "        # 원래 페이지로 돌아오기\n",
    "        driver.back() \n",
    "        driver.back()"
   ]
  },
  {
   "cell_type": "code",
   "execution_count": null,
   "metadata": {},
   "outputs": [],
   "source": [
    "# 데이터 저장하기\n",
    "df = pd.DataFrame(result)\n",
    "df.to_csv('./관광지상세정보.csv', index=False)\n",
    "df= pd.read_csv('./관광지상세정보.csv')"
   ]
  },
  {
   "cell_type": "code",
   "execution_count": null,
   "metadata": {},
   "outputs": [],
   "source": []
  }
 ],
 "metadata": {
  "language_info": {
   "name": "python"
  }
 },
 "nbformat": 4,
 "nbformat_minor": 2
}
