{
 "cells": [
  {
   "cell_type": "markdown",
   "metadata": {},
   "source": [
    "주소 컬럼의 빈값 채우기, 해시태그 컬럼의 공백 및 특수기호 등 제거 등 전처리   "
   ]
  },
  {
   "cell_type": "code",
   "execution_count": null,
   "metadata": {},
   "outputs": [],
   "source": [
    "import json, folium\n",
    "import requests"
   ]
  },
  {
   "cell_type": "code",
   "execution_count": null,
   "metadata": {},
   "outputs": [],
   "source": [
    "#  데이터 컬럼명 변경하기\n",
    "df.rename(columns ={'0':'관광지명','1':'주소','2':'연락처','3':'상세정보','4':'해시태그','5':'상세페이지_url'}, inplace=True)"
   ]
  },
  {
   "cell_type": "code",
   "execution_count": null,
   "metadata": {},
   "outputs": [],
   "source": [
    "# 주소 컬럼이 null값인 행 확인하기\n",
    "df[df['주소'].isnull()]"
   ]
  },
  {
   "cell_type": "code",
   "execution_count": null,
   "metadata": {},
   "outputs": [],
   "source": [
    "# 주소가 빈값인 관광지명 리스트로 만들기\n",
    "search_list = df[df['주소'].isnull()]['관광지명'].values.tolist()"
   ]
  },
  {
   "cell_type": "code",
   "execution_count": null,
   "metadata": {},
   "outputs": [],
   "source": [
    "with open('도로명주소APIkey.txt') as file:\n",
    "    road_key = file.read()"
   ]
  },
  {
   "cell_type": "code",
   "execution_count": null,
   "metadata": {},
   "outputs": [],
   "source": [
    "base_url = 'https://www.juso.go.kr/addrlink/addrLinkApi.do'\n",
    "params1 = f'confmKey={road_key}&currentPage=1&countPerPage=10'\n",
    "params2 = f'keyword={quote (\"렛츠런팜\")}&resultType=json'\n",
    "url = f'{base_url}?{params1}&{params2}'"
   ]
  },
  {
   "cell_type": "code",
   "execution_count": null,
   "metadata": {},
   "outputs": [],
   "source": [
    "result = requests.get(url)\n",
    "result.status_code"
   ]
  },
  {
   "cell_type": "code",
   "execution_count": null,
   "metadata": {},
   "outputs": [],
   "source": [
    "json.loads(result.text)['results']['juso'][0]['roadAddr']"
   ]
  },
  {
   "cell_type": "code",
   "execution_count": null,
   "metadata": {},
   "outputs": [],
   "source": [
    "#  null값인 주소 변경하기\n",
    "df.loc[849,'주소'] = '제주특별자치도 제주시 조천읍 남조로 1649-48'\n",
    "df.loc[883,'주소'] = '제주특별자치도 제주시 구좌읍 구좌해안로 237' \n",
    "df.loc[955,'주소'] = '제주 제주시 우도면 연평리 3'\n",
    "df.loc[967,'주소'] = '제주특별자치도 서귀포시 안덕면 사계리 112-3'\n",
    "df.loc[982,'주소'] = '제주 제주시 애월읍 평화로 1529'\n",
    "df.loc[999,'주소'] = '제주 서귀포시 안덕면 상천리 산24'\n",
    "df.loc[1014,'주소'] = '제주특별자치도 제주시 일도일동 1498'\n",
    "df.loc[1073,'주소'] = '제주특별자치도 서귀포시 남원읍 신흥리 2083'\n",
    "df.loc[1176,'주소'] = '제주특별자치도 서귀포시 안덕면 감산리 1803'\n",
    "df.loc[1342,'주소'] = '제주특별자치도 제주시 추자면 영흥리'\n",
    "df.loc[1362,'주소'] = '제주특별자치도 서귀포시 서귀동'"
   ]
  },
  {
   "cell_type": "code",
   "execution_count": null,
   "metadata": {},
   "outputs": [],
   "source": [
    "#  해시태그_sub 열 생성 - 해시태그 열의 데이터값 공백 및 특수기호 등 제외\n",
    "df['해시태그_sub'] = df['해시태그'].str.replace(pat=r'[^\\w]',repl=r' ',regex=True)"
   ]
  },
  {
   "cell_type": "markdown",
   "metadata": {},
   "source": [
    "주소의 위도 경도 가져오기"
   ]
  },
  {
   "cell_type": "code",
   "execution_count": null,
   "metadata": {},
   "outputs": [],
   "source": [
    "with open('카카오APIkey.txt') as file:\n",
    "    road_key = file.read()"
   ]
  },
  {
   "cell_type": "code",
   "execution_count": null,
   "metadata": {},
   "outputs": [],
   "source": [
    "lat_list, lng_list = [],[]\n",
    "for i in df.index:\n",
    "    url = f'{base_url}?query={quote(df[\"주소\"][i])}'\n",
    "    result = requests.get(url, headers=header).json()\n",
    "    try:\n",
    "        lat_list.append(result['documents'][0]['y'])\n",
    "        lng_list.append(result['documents'][0]['x'])\n",
    "    except:\n",
    "        print(df.관광지명[i])"
   ]
  },
  {
   "cell_type": "code",
   "execution_count": null,
   "metadata": {},
   "outputs": [],
   "source": [
    "df['위도'] = lat_list\n",
    "df['경도'] = lng_list"
   ]
  },
  {
   "cell_type": "code",
   "execution_count": null,
   "metadata": {},
   "outputs": [],
   "source": [
    "#  데이터 저장하기\n",
    "df.to_csv('./관광지정보최종.csv', index = False)\n",
    "pd.read_csv('./관광지정보최종.csv')\n",
    "df=pd.read_csv('./관광지정보최종.csv')"
   ]
  },
  {
   "cell_type": "markdown",
   "metadata": {},
   "source": [
    "지도 그리기"
   ]
  },
  {
   "cell_type": "code",
   "execution_count": null,
   "metadata": {},
   "outputs": [],
   "source": [
    "import folium\n",
    "import seaborn as sns\n",
    "import matplotlib.pyplot as plt\n",
    "plt.rcParams['font.family']='Malgun Gothic'\n",
    "plt.rcParams['axes.unicode_minus']= False"
   ]
  },
  {
   "cell_type": "code",
   "execution_count": null,
   "metadata": {},
   "outputs": [],
   "source": [
    "# 지도 표시하기\n",
    "map = folium.Map(location = [df.위도.mean(), df.경도.mean()], zoomstart = 14)\n",
    "for i in df.index:\n",
    "    folium.Marker(\n",
    "        location = [df['위도'][i], df['경도'][i]], \n",
    "        tooltip = df.관광지명[i],\n",
    "        icon=folium.Icon( color='pink', icon= 'star'),\n",
    "        popup = folium.Popup(df.주소[i],df.해시태그[i], max_width=200) \n",
    "    ).add_to(map)"
   ]
  },
  {
   "cell_type": "code",
   "execution_count": null,
   "metadata": {},
   "outputs": [],
   "source": []
  },
  {
   "cell_type": "code",
   "execution_count": null,
   "metadata": {},
   "outputs": [],
   "source": [
    "# 지도 표시하기__제주시와 그 외(서귀포시)로 나뉘어서 표시하기\n",
    "map = folium.Map(location = [df.위도.mean(), df.경도.mean()], zoomstart = 14)\n",
    "for i in df.index:\n",
    "    if '제주시' in df['주소'][i]:\n",
    "        folium.Marker(\n",
    "            location = [df['위도'][i], df['경도'][i]], \n",
    "            tooltip = dft.관광지명[i],\n",
    "            icon=folium.Icon( color='beige', icon= 'cloud'),\n",
    "            popup = folium.Popup(df.주소[i], df.해시태그[i], max_width=200) ).add_to(map)\n",
    "    else:\n",
    "        folium.Marker(\n",
    "            location = [df['위도'][i], df['경도'][i]], \n",
    "            tooltip = df.관광지명[i],\n",
    "            icon=folium.Icon( color='lightgreen', icon= 'glyphicon-star'),\n",
    "            popup = folium.Popup(df.주소[i], df.해시태그[i], max_width=200) ).add_to(map)"
   ]
  },
  {
   "cell_type": "code",
   "execution_count": null,
   "metadata": {},
   "outputs": [],
   "source": []
  }
 ],
 "metadata": {
  "language_info": {
   "name": "python"
  }
 },
 "nbformat": 4,
 "nbformat_minor": 2
}
